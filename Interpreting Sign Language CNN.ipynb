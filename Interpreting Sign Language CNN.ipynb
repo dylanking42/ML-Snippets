{
 "cells": [
  {
   "cell_type": "markdown",
   "metadata": {},
   "source": [
    "# Example Tensorflow Basics For Image Recognition Notebook"
   ]
  },
  {
   "cell_type": "code",
   "execution_count": 1,
   "metadata": {
    "collapsed": true,
    "scrolled": true
   },
   "outputs": [],
   "source": [
    "import numpy as np \n",
    "import pandas as pd \n",
    "import matplotlib.pyplot as plt\n",
    "import warnings\n",
    "warnings.filterwarnings('ignore')\n"
   ]
  },
  {
   "cell_type": "code",
   "execution_count": 2,
   "metadata": {},
   "outputs": [
    {
     "data": {
      "text/plain": [
       "(-0.5, 63.5, 63.5, -0.5)"
      ]
     },
     "execution_count": 2,
     "metadata": {},
     "output_type": "execute_result"
    },
    {
     "data": {
      "image/png": "[encoded data removed]",
      "text/plain": [
       "<matplotlib.figure.Figure at 0x259c47b0f98>"
      ]
     },
     "metadata": {},
     "output_type": "display_data"
    }
   ],
   "source": [
    "# load data set\n",
    "%matplotlib inline\n",
    "x_l = np.load(r'C:\\Users\\Dylan\\AnacondaProjects\\Inputs\\Sign-language-digits-dataset\\X.npy')\n",
    "Y_l = np.load(r'C:\\Users\\Dylan\\AnacondaProjects\\Inputs\\Sign-language-digits-dataset\\Y.npy')\n",
    "img_size = 64\n",
    "plt.subplot(1, 2, 1)\n",
    "plt.imshow(x_l[260].reshape(img_size, img_size))\n",
    "plt.axis('off')\n",
    "plt.subplot(1, 2, 2)\n",
    "plt.imshow(x_l[900].reshape(img_size, img_size))\n",
    "plt.axis('off')"
   ]
  },
  {
   "cell_type": "code",
   "execution_count": 3,
   "metadata": {},
   "outputs": [
    {
     "name": "stdout",
     "output_type": "stream",
     "text": [
      "X shape:  (410, 64, 64)\n",
      "Y shape:  (410, 1)\n"
     ]
    }
   ],
   "source": [
    "# Join a sequence of arrays along an row axis.\n",
    "X = np.concatenate((x_l[204:409], x_l[822:1027] ), axis=0) # from 0 to 204 is zero sign and from 205 to 410 is one sign \n",
    "z = np.zeros(205)\n",
    "o = np.ones(205)\n",
    "Y = np.concatenate((z, o), axis=0).reshape(X.shape[0],1)\n",
    "print(\"X shape: \" , X.shape)\n",
    "print(\"Y shape: \" , Y.shape)"
   ]
  },
  {
   "cell_type": "code",
   "execution_count": 4,
   "metadata": {
    "collapsed": true
   },
   "outputs": [],
   "source": [
    "from sklearn.model_selection import train_test_split\n",
    "X_train, X_test, Y_train, Y_test = train_test_split(X, Y, test_size=0.15, random_state=42)\n",
    "number_of_train = X_train.shape[0]\n",
    "number_of_test = X_test.shape[0]"
   ]
  },
  {
   "cell_type": "code",
   "execution_count": 5,
   "metadata": {},
   "outputs": [
    {
     "name": "stdout",
     "output_type": "stream",
     "text": [
      "X train flatten (348, 4096)\n",
      "X test flatten (62, 4096)\n"
     ]
    }
   ],
   "source": [
    "X_train_flatten = X_train.reshape(number_of_train,X_train.shape[1]*X_train.shape[2])\n",
    "X_test_flatten = X_test .reshape(number_of_test,X_test.shape[1]*X_test.shape[2])\n",
    "print(\"X train flatten\",X_train_flatten.shape)\n",
    "print(\"X test flatten\",X_test_flatten.shape)"
   ]
  },
  {
   "cell_type": "code",
   "execution_count": 6,
   "metadata": {},
   "outputs": [
    {
     "name": "stdout",
     "output_type": "stream",
     "text": [
      "x train:  (4096, 348)\n",
      "x test:  (4096, 62)\n",
      "y train:  (1, 348)\n",
      "y test:  (1, 62)\n"
     ]
    }
   ],
   "source": [
    "x_train = X_train_flatten.T\n",
    "x_test = X_test_flatten.T\n",
    "y_train = Y_train.T\n",
    "y_test = Y_test.T\n",
    "print(\"x train: \",x_train.shape)\n",
    "print(\"x test: \",x_test.shape)\n",
    "print(\"y train: \",y_train.shape)\n",
    "print(\"y test: \",y_test.shape)"
   ]
  },
  {
   "cell_type": "code",
   "execution_count": 7,
   "metadata": {
    "collapsed": true
   },
   "outputs": [],
   "source": [
    "def dummy(parameter):\n",
    "    dummy_parameter = parameter + 5\n",
    "    return dummy_parameter\n",
    "result = dummy(3)     # result = 8\n",
    "\n",
    "# lets initialize parameters\n",
    "# So what we need is dimension 4096 that is number of pixels as a parameter for our initialize method(def)\n",
    "def initialize_weights_and_bias(dimension):\n",
    "    w = np.full((dimension,1),0.01)\n",
    "    b = 0.0\n",
    "    return w, b"
   ]
  },
  {
   "cell_type": "code",
   "execution_count": 8,
   "metadata": {
    "collapsed": true
   },
   "outputs": [],
   "source": [
    "# calculation of z\n",
    "#z = np.dot(w.T,x_train)+b\n",
    "def sigmoid(z):\n",
    "    y_head = 1/(1+np.exp(-z))\n",
    "    return y_head\n",
    "#y_head = sigmoid(z)"
   ]
  },
  {
   "cell_type": "code",
   "execution_count": 9,
   "metadata": {
    "collapsed": true
   },
   "outputs": [],
   "source": [
    "# Forward propagation steps:\n",
    "# find z = w.T*x+b\n",
    "# y_head = sigmoid(z)\n",
    "# loss(error) = loss(y,y_head)\n",
    "# cost = sum(loss)\n",
    "def forward_propagation(w,b,x_train,y_train):\n",
    "    z = np.dot(w.T,x_train) + b\n",
    "    y_head = sigmoid(z)\n",
    "    loss = -y_train*np.log(y_head)-(1-y_train)*np.log(1-y_head)\n",
    "    cost = (np.sum(loss))/x_train.shape[1]      # x_train.shape[1]  is for scaling\n",
    "    return cost "
   ]
  },
  {
   "cell_type": "code",
   "execution_count": 10,
   "metadata": {
    "collapsed": true
   },
   "outputs": [],
   "source": [
    "# In backward propagation we will use y_head that found in forward progation\n",
    "# Therefore instead of writing backward propagation method, lets combine forward propagation and backward propagation\n",
    "def forward_backward_propagation(w,b,x_train,y_train):\n",
    "    # forward propagation\n",
    "    z = np.dot(w.T,x_train) + b\n",
    "    y_head = sigmoid(z)\n",
    "    loss = -y_train*np.log(y_head)-(1-y_train)*np.log(1-y_head)\n",
    "    cost = (np.sum(loss))/x_train.shape[1]      # x_train.shape[1]  is for scaling\n",
    "    # backward propagation\n",
    "    derivative_weight = (np.dot(x_train,((y_head-y_train).T)))/x_train.shape[1] # x_train.shape[1]  is for scaling\n",
    "    derivative_bias = np.sum(y_head-y_train)/x_train.shape[1]                 # x_train.shape[1]  is for scaling\n",
    "    gradients = {\"derivative_weight\": derivative_weight,\"derivative_bias\": derivative_bias}\n",
    "    return cost,gradients"
   ]
  },
  {
   "cell_type": "code",
   "execution_count": 11,
   "metadata": {
    "collapsed": true
   },
   "outputs": [],
   "source": [
    "# Updating(learning) parameters\n",
    "def update(w, b, x_train, y_train, learning_rate,number_of_iterarion):\n",
    "    cost_list = []\n",
    "    cost_list2 = []\n",
    "    index = []\n",
    "    # updating(learning) parameters is number_of_iterarion times\n",
    "    for i in range(number_of_iterarion):\n",
    "        # make forward and backward propagation and find cost and gradients\n",
    "        cost,gradients = forward_backward_propagation(w,b,x_train,y_train)\n",
    "        cost_list.append(cost)\n",
    "        # lets update\n",
    "        w = w - learning_rate * gradients[\"derivative_weight\"]\n",
    "        b = b - learning_rate * gradients[\"derivative_bias\"]\n",
    "        if i % 10 == 0:\n",
    "            cost_list2.append(cost)\n",
    "            index.append(i)\n",
    "            print (\"Cost after iteration %i: %f\" %(i, cost))\n",
    "    # we update(learn) parameters weights and bias\n",
    "    parameters = {\"weight\": w,\"bias\": b}\n",
    "    plt.plot(index,cost_list2)\n",
    "    plt.xticks(index,rotation='vertical')\n",
    "    plt.xlabel(\"Number of Iterarion\")\n",
    "    plt.ylabel(\"Cost\")\n",
    "    plt.show()\n",
    "    return parameters, gradients, cost_list\n",
    "#parameters, gradients, cost_list = update(w, b, x_train, y_train, learning_rate = 0.009,number_of_iterarion = 200)"
   ]
  },
  {
   "cell_type": "code",
   "execution_count": 12,
   "metadata": {
    "collapsed": true
   },
   "outputs": [],
   "source": [
    " # prediction\n",
    "def predict(w,b,x_test):\n",
    "    # x_test is a input for forward propagation\n",
    "    z = sigmoid(np.dot(w.T,x_test)+b)\n",
    "    Y_prediction = np.zeros((1,x_test.shape[1]))\n",
    "    # if z is bigger than 0.5, our prediction is sign one (y_head=1),\n",
    "    # if z is smaller than 0.5, our prediction is sign zero (y_head=0),\n",
    "    for i in range(z.shape[1]):\n",
    "        if z[0,i]<= 0.5:\n",
    "            Y_prediction[0,i] = 0\n",
    "        else:\n",
    "            Y_prediction[0,i] = 1\n",
    "\n",
    "    return Y_prediction\n",
    "# predict(parameters[\"weight\"],parameters[\"bias\"],x_test)"
   ]
  },
  {
   "cell_type": "code",
   "execution_count": 13,
   "metadata": {},
   "outputs": [
    {
     "name": "stdout",
     "output_type": "stream",
     "text": [
      "Cost after iteration 0: 14.014222\n",
      "Cost after iteration 10: 2.544689\n",
      "Cost after iteration 20: 2.577950\n",
      "Cost after iteration 30: 2.397999\n",
      "Cost after iteration 40: 2.185019\n",
      "Cost after iteration 50: 1.968348\n",
      "Cost after iteration 60: 1.754195\n",
      "Cost after iteration 70: 1.535079\n",
      "Cost after iteration 80: 1.297567\n",
      "Cost after iteration 90: 1.031919\n",
      "Cost after iteration 100: 0.737019\n",
      "Cost after iteration 110: 0.441355\n",
      "Cost after iteration 120: 0.252278\n",
      "Cost after iteration 130: 0.205168\n",
      "Cost after iteration 140: 0.196168\n"
     ]
    },
    {
     "data": {
      "image/png": "[encoded data removed]",
      "text/plain": [
       "<matplotlib.figure.Figure at 0x259c33be780>"
      ]
     },
     "metadata": {},
     "output_type": "display_data"
    },
    {
     "name": "stdout",
     "output_type": "stream",
     "text": [
      "train accuracy: 92.816091954023 %\n",
      "test accuracy: 93.54838709677419 %\n"
     ]
    }
   ],
   "source": [
    "def logistic_regression(x_train, y_train, x_test, y_test, learning_rate ,  num_iterations):\n",
    "    # initialize\n",
    "    dimension =  x_train.shape[0]  # that is 4096\n",
    "    w,b = initialize_weights_and_bias(dimension)\n",
    "    # do not change learning rate\n",
    "    parameters, gradients, cost_list = update(w, b, x_train, y_train, learning_rate,num_iterations)\n",
    "    \n",
    "    y_prediction_test = predict(parameters[\"weight\"],parameters[\"bias\"],x_test)\n",
    "    y_prediction_train = predict(parameters[\"weight\"],parameters[\"bias\"],x_train)\n",
    "\n",
    "    # Print train/test Errors\n",
    "    print(\"train accuracy: {} %\".format(100 - np.mean(np.abs(y_prediction_train - y_train)) * 100))\n",
    "    print(\"test accuracy: {} %\".format(100 - np.mean(np.abs(y_prediction_test - y_test)) * 100))\n",
    "    \n",
    "logistic_regression(x_train, y_train, x_test, y_test,learning_rate = 0.01, num_iterations = 150)"
   ]
  },
  {
   "cell_type": "code",
   "execution_count": 14,
   "metadata": {},
   "outputs": [
    {
     "name": "stdout",
     "output_type": "stream",
     "text": [
      "test accuracy: 0.967741935483871 \n",
      "train accuracy: 1.0 \n"
     ]
    }
   ],
   "source": [
    "from sklearn import linear_model\n",
    "logreg = linear_model.LogisticRegression(random_state = 42,max_iter= 150)\n",
    "print(\"test accuracy: {} \".format(logreg.fit(x_train.T, y_train.T).score(x_test.T, y_test.T)))\n",
    "print(\"train accuracy: {} \".format(logreg.fit(x_train.T, y_train.T).score(x_train.T, y_train.T)))"
   ]
  },
  {
   "cell_type": "code",
   "execution_count": 15,
   "metadata": {
    "collapsed": true
   },
   "outputs": [],
   "source": [
    "#clean and restructure data\n",
    "X_train, X_test, Y_train, Y_test = train_test_split(X, Y, test_size=0.15, random_state=42)\n",
    "number_of_train = X_train.shape[0]\n",
    "number_of_test = X_test.shape[0]\n",
    "\n",
    "X_train_flatten = X_train.reshape(number_of_train,X_train.shape[1]*X_train.shape[2])\n",
    "X_test_flatten = X_test .reshape(number_of_test,X_test.shape[1]*X_test.shape[2])\n",
    "\n",
    "x_train = X_train_flatten.T\n",
    "x_test = X_test_flatten.T\n",
    "y_train = Y_train.T\n",
    "y_test = Y_test.T"
   ]
  },
  {
   "cell_type": "code",
   "execution_count": 16,
   "metadata": {
    "collapsed": true
   },
   "outputs": [],
   "source": [
    "import tensorflow as tf\n",
    "\n",
    "cfg = tf.ConfigProto(allow_soft_placement = True)\n",
    "\n",
    "#stop tf from being greedy with gpu memory\n",
    "\n",
    "#can use either:\n",
    "gpu_options = tf.GPUOptions(per_process_gpu_memory_fraction=0.5)\n",
    "sess = tf.Session(config=tf.ConfigProto(gpu_options=gpu_options))\n",
    "\n",
    "#or:\n",
    "#config = tf.ConfigProto()\n",
    "#config.gpu_options.allow_growth=True\n",
    "#sess = tf.Session(config=config)"
   ]
  },
  {
   "cell_type": "code",
   "execution_count": 17,
   "metadata": {
    "collapsed": true
   },
   "outputs": [],
   "source": [
    "x_train, x_test, y_train, y_test = x_train.T, x_test.T, y_train.T, y_test.T"
   ]
  },
  {
   "cell_type": "code",
   "execution_count": 18,
   "metadata": {
    "scrolled": true
   },
   "outputs": [
    {
     "name": "stderr",
     "output_type": "stream",
     "text": [
      "Using TensorFlow backend.\n"
     ]
    },
    {
     "name": "stdout",
     "output_type": "stream",
     "text": [
      "Epoch 1/100\n",
      "232/232 [==============================] - 1s 3ms/step - loss: 0.6930 - acc: 0.5086\n",
      "Epoch 2/100\n",
      "232/232 [==============================] - 0s 125us/step - loss: 0.6920 - acc: 0.5431\n",
      "Epoch 3/100\n",
      "232/232 [==============================] - 0s 106us/step - loss: 0.6911 - acc: 0.5431\n",
      "Epoch 4/100\n",
      "232/232 [==============================] - 0s 121us/step - loss: 0.6895 - acc: 0.5431\n",
      "Epoch 5/100\n",
      "232/232 [==============================] - 0s 108us/step - loss: 0.6893 - acc: 0.5431\n",
      "Epoch 6/100\n",
      "232/232 [==============================] - 0s 112us/step - loss: 0.6873 - acc: 0.5431\n",
      "Epoch 7/100\n",
      "232/232 [==============================] - 0s 110us/step - loss: 0.6868 - acc: 0.5431\n",
      "Epoch 8/100\n",
      "232/232 [==============================] - 0s 116us/step - loss: 0.6863 - acc: 0.5431\n",
      "Epoch 9/100\n",
      "232/232 [==============================] - 0s 116us/step - loss: 0.6853 - acc: 0.5431\n",
      "Epoch 10/100\n",
      "232/232 [==============================] - 0s 112us/step - loss: 0.6844 - acc: 0.5431\n",
      "Epoch 11/100\n",
      "232/232 [==============================] - 0s 116us/step - loss: 0.6839 - acc: 0.5431\n",
      "Epoch 12/100\n",
      "232/232 [==============================] - 0s 114us/step - loss: 0.6830 - acc: 0.5431\n",
      "Epoch 13/100\n",
      "232/232 [==============================] - 0s 110us/step - loss: 0.6817 - acc: 0.5431\n",
      "Epoch 14/100\n",
      "232/232 [==============================] - 0s 98us/step - loss: 0.6800 - acc: 0.5431\n",
      "Epoch 15/100\n",
      "232/232 [==============================] - 0s 104us/step - loss: 0.6776 - acc: 0.5431\n",
      "Epoch 16/100\n",
      "232/232 [==============================] - 0s 99us/step - loss: 0.6747 - acc: 0.5431\n",
      "Epoch 17/100\n",
      "232/232 [==============================] - 0s 114us/step - loss: 0.6717 - acc: 0.5431\n",
      "Epoch 18/100\n",
      "232/232 [==============================] - 0s 99us/step - loss: 0.6665 - acc: 0.5431\n",
      "Epoch 19/100\n",
      "232/232 [==============================] - 0s 108us/step - loss: 0.6596 - acc: 0.5431\n",
      "Epoch 20/100\n",
      "232/232 [==============================] - 0s 99us/step - loss: 0.6525 - acc: 0.5431\n",
      "Epoch 21/100\n",
      "232/232 [==============================] - ETA: 0s - loss: 0.6642 - acc: 0.468 - 0s 114us/step - loss: 0.6420 - acc: 0.5431\n",
      "Epoch 22/100\n",
      "232/232 [==============================] - 0s 114us/step - loss: 0.6301 - acc: 0.5431\n",
      "Epoch 23/100\n",
      "232/232 [==============================] - 0s 106us/step - loss: 0.6173 - acc: 0.5431\n",
      "Epoch 24/100\n",
      "232/232 [==============================] - 0s 112us/step - loss: 0.6014 - acc: 0.5431\n",
      "Epoch 25/100\n",
      "232/232 [==============================] - 0s 112us/step - loss: 0.5829 - acc: 0.5905\n",
      "Epoch 26/100\n",
      "232/232 [==============================] - 0s 106us/step - loss: 0.5709 - acc: 0.6422\n",
      "Epoch 27/100\n",
      "232/232 [==============================] - 0s 119us/step - loss: 0.5500 - acc: 0.7845\n",
      "Epoch 28/100\n",
      "232/232 [==============================] - 0s 123us/step - loss: 0.5396 - acc: 0.6853\n",
      "Epoch 29/100\n",
      "232/232 [==============================] - 0s 108us/step - loss: 0.5268 - acc: 0.8319\n",
      "Epoch 30/100\n",
      "232/232 [==============================] - 0s 97us/step - loss: 0.5054 - acc: 0.7672\n",
      "Epoch 31/100\n",
      "232/232 [==============================] - 0s 110us/step - loss: 0.4937 - acc: 0.7845\n",
      "Epoch 32/100\n",
      "232/232 [==============================] - 0s 99us/step - loss: 0.4806 - acc: 0.8276\n",
      "Epoch 33/100\n",
      "232/232 [==============================] - 0s 108us/step - loss: 0.4670 - acc: 0.8276\n",
      "Epoch 34/100\n",
      "232/232 [==============================] - 0s 108us/step - loss: 0.4572 - acc: 0.8233\n",
      "Epoch 35/100\n",
      "232/232 [==============================] - 0s 95us/step - loss: 0.4481 - acc: 0.9009\n",
      "Epoch 36/100\n",
      "232/232 [==============================] - 0s 110us/step - loss: 0.4417 - acc: 0.8405\n",
      "Epoch 37/100\n",
      "232/232 [==============================] - 0s 106us/step - loss: 0.4283 - acc: 0.9052\n",
      "Epoch 38/100\n",
      "232/232 [==============================] - 0s 112us/step - loss: 0.4406 - acc: 0.8362\n",
      "Epoch 39/100\n",
      "232/232 [==============================] - 0s 97us/step - loss: 0.4442 - acc: 0.9181\n",
      "Epoch 40/100\n",
      "232/232 [==============================] - 0s 114us/step - loss: 0.4285 - acc: 0.8060\n",
      "Epoch 41/100\n",
      "232/232 [==============================] - 0s 112us/step - loss: 0.4145 - acc: 0.9267\n",
      "Epoch 42/100\n",
      "232/232 [==============================] - 0s 108us/step - loss: 0.4017 - acc: 0.8879\n",
      "Epoch 43/100\n",
      "232/232 [==============================] - 0s 106us/step - loss: 0.3977 - acc: 0.9267\n",
      "Epoch 44/100\n",
      "232/232 [==============================] - 0s 104us/step - loss: 0.3903 - acc: 0.9181\n",
      "Epoch 45/100\n",
      "232/232 [==============================] - 0s 104us/step - loss: 0.3881 - acc: 0.8922\n",
      "Epoch 46/100\n",
      "232/232 [==============================] - 0s 110us/step - loss: 0.3821 - acc: 0.9310\n",
      "Epoch 47/100\n",
      "232/232 [==============================] - 0s 104us/step - loss: 0.3820 - acc: 0.8966\n",
      "Epoch 48/100\n",
      "232/232 [==============================] - 0s 104us/step - loss: 0.3750 - acc: 0.9310\n",
      "Epoch 49/100\n",
      "232/232 [==============================] - 0s 97us/step - loss: 0.3757 - acc: 0.8966\n",
      "Epoch 50/100\n",
      "232/232 [==============================] - 0s 99us/step - loss: 0.3654 - acc: 0.9267\n",
      "Epoch 51/100\n",
      "232/232 [==============================] - 0s 104us/step - loss: 0.3633 - acc: 0.9310\n",
      "Epoch 52/100\n",
      "232/232 [==============================] - 0s 97us/step - loss: 0.3586 - acc: 0.9181\n",
      "Epoch 53/100\n",
      "232/232 [==============================] - 0s 110us/step - loss: 0.3533 - acc: 0.9353\n",
      "Epoch 54/100\n",
      "232/232 [==============================] - 0s 106us/step - loss: 0.3487 - acc: 0.9353\n",
      "Epoch 55/100\n",
      "232/232 [==============================] - 0s 101us/step - loss: 0.3496 - acc: 0.9353\n",
      "Epoch 56/100\n",
      "232/232 [==============================] - 0s 101us/step - loss: 0.3427 - acc: 0.9310\n",
      "Epoch 57/100\n",
      "232/232 [==============================] - 0s 112us/step - loss: 0.3387 - acc: 0.9353\n",
      "Epoch 58/100\n",
      "232/232 [==============================] - 0s 106us/step - loss: 0.3386 - acc: 0.9440\n",
      "Epoch 59/100\n",
      "232/232 [==============================] - 0s 99us/step - loss: 0.3339 - acc: 0.9310\n",
      "Epoch 60/100\n",
      "232/232 [==============================] - 0s 106us/step - loss: 0.3306 - acc: 0.9353\n",
      "Epoch 61/100\n",
      "232/232 [==============================] - 0s 117us/step - loss: 0.3265 - acc: 0.9397\n",
      "Epoch 62/100\n",
      "232/232 [==============================] - 0s 110us/step - loss: 0.3270 - acc: 0.9397\n",
      "Epoch 63/100\n",
      "232/232 [==============================] - 0s 101us/step - loss: 0.3253 - acc: 0.9224\n",
      "Epoch 64/100\n",
      "232/232 [==============================] - 0s 106us/step - loss: 0.3349 - acc: 0.9526\n",
      "Epoch 65/100\n",
      "232/232 [==============================] - 0s 101us/step - loss: 0.3194 - acc: 0.9224\n",
      "Epoch 66/100\n",
      "232/232 [==============================] - 0s 116us/step - loss: 0.3133 - acc: 0.9483\n",
      "Epoch 67/100\n",
      "232/232 [==============================] - 0s 104us/step - loss: 0.3066 - acc: 0.9440\n",
      "Epoch 68/100\n",
      "232/232 [==============================] - 0s 104us/step - loss: 0.3086 - acc: 0.9483\n",
      "Epoch 69/100\n",
      "232/232 [==============================] - 0s 101us/step - loss: 0.3009 - acc: 0.9483\n",
      "Epoch 70/100\n",
      "232/232 [==============================] - 0s 106us/step - loss: 0.3085 - acc: 0.9138\n",
      "Epoch 71/100\n",
      "232/232 [==============================] - 0s 108us/step - loss: 0.3006 - acc: 0.9569\n",
      "Epoch 72/100\n",
      "232/232 [==============================] - 0s 99us/step - loss: 0.2969 - acc: 0.9483\n",
      "Epoch 73/100\n",
      "232/232 [==============================] - 0s 108us/step - loss: 0.2933 - acc: 0.9397\n",
      "Epoch 74/100\n",
      "232/232 [==============================] - 0s 99us/step - loss: 0.3018 - acc: 0.9655\n",
      "Epoch 75/100\n",
      "232/232 [==============================] - 0s 106us/step - loss: 0.2942 - acc: 0.9397\n",
      "Epoch 76/100\n",
      "232/232 [==============================] - 0s 112us/step - loss: 0.2866 - acc: 0.9612\n",
      "Epoch 77/100\n",
      "232/232 [==============================] - 0s 114us/step - loss: 0.2839 - acc: 0.9569\n",
      "Epoch 78/100\n",
      "232/232 [==============================] - 0s 106us/step - loss: 0.2841 - acc: 0.9483\n",
      "Epoch 79/100\n",
      "232/232 [==============================] - 0s 101us/step - loss: 0.2836 - acc: 0.9526\n",
      "Epoch 80/100\n",
      "232/232 [==============================] - 0s 99us/step - loss: 0.2790 - acc: 0.9483\n",
      "Epoch 81/100\n",
      "232/232 [==============================] - 0s 97us/step - loss: 0.2804 - acc: 0.9569\n",
      "Epoch 82/100\n",
      "232/232 [==============================] - 0s 106us/step - loss: 0.2730 - acc: 0.9655\n",
      "Epoch 83/100\n"
     ]
    },
    {
     "name": "stdout",
     "output_type": "stream",
     "text": [
      "232/232 [==============================] - 0s 106us/step - loss: 0.2736 - acc: 0.9526\n",
      "Epoch 84/100\n",
      "232/232 [==============================] - 0s 108us/step - loss: 0.2772 - acc: 0.9526\n",
      "Epoch 85/100\n",
      "232/232 [==============================] - 0s 99us/step - loss: 0.2731 - acc: 0.9655\n",
      "Epoch 86/100\n",
      "232/232 [==============================] - 0s 106us/step - loss: 0.2697 - acc: 0.9483\n",
      "Epoch 87/100\n",
      "232/232 [==============================] - 0s 97us/step - loss: 0.2667 - acc: 0.9483\n",
      "Epoch 88/100\n",
      "232/232 [==============================] - 0s 101us/step - loss: 0.2675 - acc: 0.9655\n",
      "Epoch 89/100\n",
      "232/232 [==============================] - 0s 97us/step - loss: 0.2672 - acc: 0.9526\n",
      "Epoch 90/100\n",
      "232/232 [==============================] - 0s 97us/step - loss: 0.2649 - acc: 0.9698\n",
      "Epoch 91/100\n",
      "232/232 [==============================] - 0s 108us/step - loss: 0.2548 - acc: 0.9612\n",
      "Epoch 92/100\n",
      "232/232 [==============================] - 0s 119us/step - loss: 0.2557 - acc: 0.9526\n",
      "Epoch 93/100\n",
      "232/232 [==============================] - 0s 116us/step - loss: 0.2540 - acc: 0.9655\n",
      "Epoch 94/100\n",
      "232/232 [==============================] - 0s 125us/step - loss: 0.2521 - acc: 0.9655\n",
      "Epoch 95/100\n",
      "232/232 [==============================] - 0s 110us/step - loss: 0.2494 - acc: 0.9655\n",
      "Epoch 96/100\n",
      "232/232 [==============================] - 0s 99us/step - loss: 0.2487 - acc: 0.9612\n",
      "Epoch 97/100\n",
      "232/232 [==============================] - 0s 104us/step - loss: 0.2463 - acc: 0.9612\n",
      "Epoch 98/100\n",
      "232/232 [==============================] - 0s 108us/step - loss: 0.2470 - acc: 0.9741\n",
      "Epoch 99/100\n",
      "232/232 [==============================] - 0s 114us/step - loss: 0.2391 - acc: 0.9741\n",
      "Epoch 100/100\n",
      "232/232 [==============================] - 0s 106us/step - loss: 0.2460 - acc: 0.9612\n",
      "116/116 [==============================] - 0s 298us/step\n",
      "Epoch 1/100\n",
      "232/232 [==============================] - 0s 1ms/step - loss: 0.6934 - acc: 0.5000\n",
      "Epoch 2/100\n",
      "232/232 [==============================] - 0s 106us/step - loss: 0.6929 - acc: 0.5216\n",
      "Epoch 3/100\n",
      "232/232 [==============================] - 0s 106us/step - loss: 0.6926 - acc: 0.5216\n",
      "Epoch 4/100\n",
      "232/232 [==============================] - 0s 278us/step - loss: 0.6923 - acc: 0.5216\n",
      "Epoch 5/100\n",
      "232/232 [==============================] - 0s 231us/step - loss: 0.6922 - acc: 0.5216\n",
      "Epoch 6/100\n",
      "232/232 [==============================] - 0s 140us/step - loss: 0.6918 - acc: 0.5216\n",
      "Epoch 7/100\n",
      "232/232 [==============================] - 0s 104us/step - loss: 0.6913 - acc: 0.5216\n",
      "Epoch 8/100\n",
      "232/232 [==============================] - 0s 106us/step - loss: 0.6905 - acc: 0.5216\n",
      "Epoch 9/100\n",
      "232/232 [==============================] - 0s 104us/step - loss: 0.6895 - acc: 0.5216\n",
      "Epoch 10/100\n",
      "232/232 [==============================] - 0s 101us/step - loss: 0.6882 - acc: 0.5216\n",
      "Epoch 11/100\n",
      "232/232 [==============================] - 0s 108us/step - loss: 0.6863 - acc: 0.5216\n",
      "Epoch 12/100\n",
      "232/232 [==============================] - 0s 101us/step - loss: 0.6842 - acc: 0.5216\n",
      "Epoch 13/100\n",
      "232/232 [==============================] - 0s 106us/step - loss: 0.6806 - acc: 0.5216\n",
      "Epoch 14/100\n",
      "232/232 [==============================] - 0s 112us/step - loss: 0.6761 - acc: 0.5216\n",
      "Epoch 15/100\n",
      "232/232 [==============================] - 0s 106us/step - loss: 0.6702 - acc: 0.5216\n",
      "Epoch 16/100\n",
      "232/232 [==============================] - 0s 97us/step - loss: 0.6608 - acc: 0.5216\n",
      "Epoch 17/100\n",
      "232/232 [==============================] - 0s 114us/step - loss: 0.6523 - acc: 0.5216\n",
      "Epoch 18/100\n",
      "232/232 [==============================] - 0s 112us/step - loss: 0.6385 - acc: 0.5216\n",
      "Epoch 19/100\n",
      "232/232 [==============================] - 0s 116us/step - loss: 0.6246 - acc: 0.5216\n",
      "Epoch 20/100\n",
      "232/232 [==============================] - 0s 104us/step - loss: 0.6121 - acc: 0.6293\n",
      "Epoch 21/100\n",
      "232/232 [==============================] - 0s 104us/step - loss: 0.5940 - acc: 0.6595\n",
      "Epoch 22/100\n",
      "232/232 [==============================] - 0s 106us/step - loss: 0.5806 - acc: 0.6509\n",
      "Epoch 23/100\n",
      "232/232 [==============================] - 0s 106us/step - loss: 0.5661 - acc: 0.7328\n",
      "Epoch 24/100\n",
      "232/232 [==============================] - 0s 99us/step - loss: 0.5548 - acc: 0.7974\n",
      "Epoch 25/100\n",
      "232/232 [==============================] - 0s 104us/step - loss: 0.5378 - acc: 0.7543\n",
      "Epoch 26/100\n",
      "232/232 [==============================] - 0s 108us/step - loss: 0.5290 - acc: 0.8276\n",
      "Epoch 27/100\n",
      "232/232 [==============================] - 0s 99us/step - loss: 0.5144 - acc: 0.7802\n",
      "Epoch 28/100\n",
      "232/232 [==============================] - 0s 104us/step - loss: 0.5110 - acc: 0.8879\n",
      "Epoch 29/100\n",
      "232/232 [==============================] - 0s 149us/step - loss: 0.4930 - acc: 0.7888\n",
      "Epoch 30/100\n",
      "232/232 [==============================] - 0s 140us/step - loss: 0.4869 - acc: 0.7974\n",
      "Epoch 31/100\n",
      "232/232 [==============================] - 0s 153us/step - loss: 0.4777 - acc: 0.8664\n",
      "Epoch 32/100\n",
      "232/232 [==============================] - 0s 168us/step - loss: 0.4668 - acc: 0.8491\n",
      "Epoch 33/100\n",
      "232/232 [==============================] - 0s 285us/step - loss: 0.4597 - acc: 0.8405\n",
      "Epoch 34/100\n",
      "232/232 [==============================] - 0s 231us/step - loss: 0.4505 - acc: 0.8879\n",
      "Epoch 35/100\n",
      "232/232 [==============================] - 0s 414us/step - loss: 0.4499 - acc: 0.8233\n",
      "Epoch 36/100\n",
      "232/232 [==============================] - 0s 375us/step - loss: 0.4421 - acc: 0.9310\n",
      "Epoch 37/100\n",
      "232/232 [==============================] - 0s 160us/step - loss: 0.4430 - acc: 0.8147\n",
      "Epoch 38/100\n",
      "232/232 [==============================] - 0s 132us/step - loss: 0.4321 - acc: 0.9440\n",
      "Epoch 39/100\n",
      "232/232 [==============================] - 0s 177us/step - loss: 0.4215 - acc: 0.8707\n",
      "Epoch 40/100\n",
      "232/232 [==============================] - 0s 114us/step - loss: 0.4105 - acc: 0.9095\n",
      "Epoch 41/100\n",
      "232/232 [==============================] - 0s 123us/step - loss: 0.4069 - acc: 0.9267\n",
      "Epoch 42/100\n",
      "232/232 [==============================] - 0s 114us/step - loss: 0.4082 - acc: 0.8836\n",
      "Epoch 43/100\n",
      "232/232 [==============================] - 0s 138us/step - loss: 0.3965 - acc: 0.9397\n",
      "Epoch 44/100\n",
      "232/232 [==============================] - 0s 116us/step - loss: 0.3953 - acc: 0.8922\n",
      "Epoch 45/100\n",
      "232/232 [==============================] - 0s 123us/step - loss: 0.3926 - acc: 0.9397\n",
      "Epoch 46/100\n",
      "232/232 [==============================] - 0s 123us/step - loss: 0.3816 - acc: 0.9353\n",
      "Epoch 47/100\n",
      "232/232 [==============================] - 0s 123us/step - loss: 0.3757 - acc: 0.9267\n",
      "Epoch 48/100\n",
      "232/232 [==============================] - 0s 123us/step - loss: 0.3777 - acc: 0.9526\n",
      "Epoch 49/100\n",
      "232/232 [==============================] - 0s 112us/step - loss: 0.3682 - acc: 0.9397\n",
      "Epoch 50/100\n",
      "232/232 [==============================] - 0s 149us/step - loss: 0.3671 - acc: 0.9397\n",
      "Epoch 51/100\n",
      "232/232 [==============================] - 0s 127us/step - loss: 0.3607 - acc: 0.9440\n",
      "Epoch 52/100\n",
      "232/232 [==============================] - 0s 129us/step - loss: 0.3567 - acc: 0.9353\n",
      "Epoch 53/100\n",
      "232/232 [==============================] - 0s 116us/step - loss: 0.3534 - acc: 0.9353\n",
      "Epoch 54/100\n",
      "232/232 [==============================] - 0s 127us/step - loss: 0.3486 - acc: 0.9483\n",
      "Epoch 55/100\n",
      "232/232 [==============================] - 0s 129us/step - loss: 0.3446 - acc: 0.9483\n",
      "Epoch 56/100\n",
      "232/232 [==============================] - 0s 134us/step - loss: 0.3470 - acc: 0.9569\n",
      "Epoch 57/100\n",
      "232/232 [==============================] - 0s 160us/step - loss: 0.3395 - acc: 0.9483\n",
      "Epoch 58/100\n",
      "232/232 [==============================] - 0s 129us/step - loss: 0.3363 - acc: 0.9526\n",
      "Epoch 59/100\n",
      "232/232 [==============================] - 0s 132us/step - loss: 0.3317 - acc: 0.9569\n",
      "Epoch 60/100\n",
      "232/232 [==============================] - 0s 108us/step - loss: 0.3301 - acc: 0.9483\n",
      "Epoch 61/100\n",
      "232/232 [==============================] - 0s 121us/step - loss: 0.3256 - acc: 0.9526\n",
      "Epoch 62/100\n",
      "232/232 [==============================] - 0s 121us/step - loss: 0.3245 - acc: 0.9569\n",
      "Epoch 63/100\n",
      "232/232 [==============================] - 0s 116us/step - loss: 0.3204 - acc: 0.9569\n",
      "Epoch 64/100\n",
      "232/232 [==============================] - 0s 106us/step - loss: 0.3218 - acc: 0.9440\n",
      "Epoch 65/100\n"
     ]
    },
    {
     "name": "stdout",
     "output_type": "stream",
     "text": [
      "232/232 [==============================] - 0s 106us/step - loss: 0.3378 - acc: 0.9612\n",
      "Epoch 66/100\n",
      "232/232 [==============================] - 0s 127us/step - loss: 0.3294 - acc: 0.9224\n",
      "Epoch 67/100\n",
      "232/232 [==============================] - 0s 121us/step - loss: 0.3202 - acc: 0.9698\n",
      "Epoch 68/100\n",
      "232/232 [==============================] - 0s 108us/step - loss: 0.3198 - acc: 0.9310\n",
      "Epoch 69/100\n",
      "232/232 [==============================] - 0s 114us/step - loss: 0.3104 - acc: 0.9741\n",
      "Epoch 70/100\n",
      "232/232 [==============================] - 0s 119us/step - loss: 0.3022 - acc: 0.9612\n",
      "Epoch 71/100\n",
      "232/232 [==============================] - 0s 119us/step - loss: 0.2974 - acc: 0.9698\n",
      "Epoch 72/100\n",
      "232/232 [==============================] - 0s 112us/step - loss: 0.2978 - acc: 0.9698\n",
      "Epoch 73/100\n",
      "232/232 [==============================] - 0s 108us/step - loss: 0.2961 - acc: 0.9741\n",
      "Epoch 74/100\n",
      "232/232 [==============================] - 0s 108us/step - loss: 0.3009 - acc: 0.9612\n",
      "Epoch 75/100\n",
      "232/232 [==============================] - 0s 110us/step - loss: 0.3105 - acc: 0.9784\n",
      "Epoch 76/100\n",
      "232/232 [==============================] - 0s 117us/step - loss: 0.2905 - acc: 0.9526\n",
      "Epoch 77/100\n",
      "232/232 [==============================] - 0s 106us/step - loss: 0.2823 - acc: 0.9741\n",
      "Epoch 78/100\n",
      "232/232 [==============================] - 0s 97us/step - loss: 0.2807 - acc: 0.9741\n",
      "Epoch 79/100\n",
      "232/232 [==============================] - 0s 95us/step - loss: 0.2801 - acc: 0.9741\n",
      "Epoch 80/100\n",
      "232/232 [==============================] - 0s 114us/step - loss: 0.2755 - acc: 0.9741\n",
      "Epoch 81/100\n",
      "232/232 [==============================] - 0s 136us/step - loss: 0.2738 - acc: 0.9741\n",
      "Epoch 82/100\n",
      "232/232 [==============================] - 0s 109us/step - loss: 0.2719 - acc: 0.9698\n",
      "Epoch 83/100\n",
      "232/232 [==============================] - 0s 108us/step - loss: 0.2699 - acc: 0.9741\n",
      "Epoch 84/100\n",
      "232/232 [==============================] - 0s 104us/step - loss: 0.2672 - acc: 0.9741\n",
      "Epoch 85/100\n",
      "232/232 [==============================] - 0s 110us/step - loss: 0.2667 - acc: 0.9741\n",
      "Epoch 86/100\n",
      "232/232 [==============================] - 0s 104us/step - loss: 0.2652 - acc: 0.9741\n",
      "Epoch 87/100\n",
      "232/232 [==============================] - 0s 109us/step - loss: 0.2645 - acc: 0.9828\n",
      "Epoch 88/100\n",
      "232/232 [==============================] - 0s 106us/step - loss: 0.2610 - acc: 0.9741\n",
      "Epoch 89/100\n",
      "232/232 [==============================] - 0s 108us/step - loss: 0.2563 - acc: 0.9741\n",
      "Epoch 90/100\n",
      "232/232 [==============================] - 0s 112us/step - loss: 0.2550 - acc: 0.9784\n",
      "Epoch 91/100\n",
      "232/232 [==============================] - 0s 119us/step - loss: 0.2546 - acc: 0.9784\n",
      "Epoch 92/100\n",
      "232/232 [==============================] - 0s 134us/step - loss: 0.2540 - acc: 0.9741\n",
      "Epoch 93/100\n",
      "232/232 [==============================] - 0s 108us/step - loss: 0.2486 - acc: 0.9828\n",
      "Epoch 94/100\n",
      "232/232 [==============================] - 0s 160us/step - loss: 0.2489 - acc: 0.9784\n",
      "Epoch 95/100\n",
      "232/232 [==============================] - 0s 157us/step - loss: 0.2469 - acc: 0.9871\n",
      "Epoch 96/100\n",
      "232/232 [==============================] - 0s 160us/step - loss: 0.2500 - acc: 0.9698\n",
      "Epoch 97/100\n",
      "232/232 [==============================] - 0s 233us/step - loss: 0.2414 - acc: 0.9828\n",
      "Epoch 98/100\n",
      "232/232 [==============================] - 0s 166us/step - loss: 0.2392 - acc: 0.9871\n",
      "Epoch 99/100\n",
      "232/232 [==============================] - 0s 143us/step - loss: 0.2385 - acc: 0.9828\n",
      "Epoch 100/100\n",
      "232/232 [==============================] - 0s 140us/step - loss: 0.2637 - acc: 0.9698\n",
      "116/116 [==============================] - 0s 427us/step\n",
      "Epoch 1/100\n",
      "232/232 [==============================] - 0s 1ms/step - loss: 0.6930 - acc: 0.4957\n",
      "Epoch 2/100\n",
      "232/232 [==============================] - 0s 136us/step - loss: 0.6926 - acc: 0.5043\n",
      "Epoch 3/100\n",
      "232/232 [==============================] - 0s 138us/step - loss: 0.6921 - acc: 0.5560\n",
      "Epoch 4/100\n",
      "232/232 [==============================] - 0s 157us/step - loss: 0.6911 - acc: 0.5302\n",
      "Epoch 5/100\n",
      "232/232 [==============================] - 0s 162us/step - loss: 0.6895 - acc: 0.5043\n",
      "Epoch 6/100\n",
      "232/232 [==============================] - 0s 162us/step - loss: 0.6872 - acc: 0.7371\n",
      "Epoch 7/100\n",
      "232/232 [==============================] - 0s 168us/step - loss: 0.6831 - acc: 0.7931\n",
      "Epoch 8/100\n",
      "232/232 [==============================] - 0s 132us/step - loss: 0.6767 - acc: 0.7069\n",
      "Epoch 9/100\n",
      "232/232 [==============================] - 0s 140us/step - loss: 0.6645 - acc: 0.8491\n",
      "Epoch 10/100\n",
      "232/232 [==============================] - 0s 136us/step - loss: 0.6459 - acc: 0.8448\n",
      "Epoch 11/100\n",
      "232/232 [==============================] - 0s 140us/step - loss: 0.6284 - acc: 0.7198\n",
      "Epoch 12/100\n",
      "232/232 [==============================] - 0s 127us/step - loss: 0.5970 - acc: 0.8750\n",
      "Epoch 13/100\n",
      "232/232 [==============================] - 0s 162us/step - loss: 0.5617 - acc: 0.8578\n",
      "Epoch 14/100\n",
      "232/232 [==============================] - 0s 155us/step - loss: 0.5296 - acc: 0.8491\n",
      "Epoch 15/100\n",
      "232/232 [==============================] - 0s 142us/step - loss: 0.4951 - acc: 0.8664\n",
      "Epoch 16/100\n",
      "232/232 [==============================] - 0s 138us/step - loss: 0.4655 - acc: 0.8664\n",
      "Epoch 17/100\n",
      "232/232 [==============================] - 0s 222us/step - loss: 0.4201 - acc: 0.8922\n",
      "Epoch 18/100\n",
      "232/232 [==============================] - 0s 157us/step - loss: 0.3932 - acc: 0.8793\n",
      "Epoch 19/100\n",
      "232/232 [==============================] - 0s 140us/step - loss: 0.3759 - acc: 0.8966\n",
      "Epoch 20/100\n",
      "232/232 [==============================] - 0s 144us/step - loss: 0.3454 - acc: 0.9052\n",
      "Epoch 21/100\n",
      "232/232 [==============================] - 0s 136us/step - loss: 0.3209 - acc: 0.8966\n",
      "Epoch 22/100\n",
      "232/232 [==============================] - 0s 142us/step - loss: 0.3031 - acc: 0.9009\n",
      "Epoch 23/100\n",
      "232/232 [==============================] - 0s 140us/step - loss: 0.2770 - acc: 0.9181\n",
      "Epoch 24/100\n",
      "232/232 [==============================] - 0s 138us/step - loss: 0.2582 - acc: 0.9138\n",
      "Epoch 25/100\n",
      "232/232 [==============================] - 0s 149us/step - loss: 0.2453 - acc: 0.9138\n",
      "Epoch 26/100\n",
      "232/232 [==============================] - 0s 149us/step - loss: 0.2308 - acc: 0.9181\n",
      "Epoch 27/100\n",
      "232/232 [==============================] - 0s 134us/step - loss: 0.2193 - acc: 0.9397\n",
      "Epoch 28/100\n",
      "232/232 [==============================] - 0s 155us/step - loss: 0.2132 - acc: 0.9440\n",
      "Epoch 29/100\n",
      "232/232 [==============================] - 0s 140us/step - loss: 0.1953 - acc: 0.9224\n",
      "Epoch 30/100\n",
      "232/232 [==============================] - 0s 125us/step - loss: 0.1899 - acc: 0.9310\n",
      "Epoch 31/100\n",
      "232/232 [==============================] - 0s 136us/step - loss: 0.1825 - acc: 0.9353\n",
      "Epoch 32/100\n",
      "232/232 [==============================] - 0s 127us/step - loss: 0.1796 - acc: 0.9310\n",
      "Epoch 33/100\n",
      "232/232 [==============================] - 0s 134us/step - loss: 0.1742 - acc: 0.9353\n",
      "Epoch 34/100\n",
      "232/232 [==============================] - 0s 123us/step - loss: 0.1584 - acc: 0.9526\n",
      "Epoch 35/100\n",
      "232/232 [==============================] - 0s 123us/step - loss: 0.1491 - acc: 0.9526\n",
      "Epoch 36/100\n",
      "232/232 [==============================] - 0s 132us/step - loss: 0.1487 - acc: 0.9397\n",
      "Epoch 37/100\n",
      "232/232 [==============================] - 0s 137us/step - loss: 0.1455 - acc: 0.9440\n",
      "Epoch 38/100\n",
      "232/232 [==============================] - 0s 140us/step - loss: 0.1392 - acc: 0.9569\n",
      "Epoch 39/100\n",
      "232/232 [==============================] - 0s 155us/step - loss: 0.1483 - acc: 0.9612\n",
      "Epoch 40/100\n",
      "232/232 [==============================] - 0s 125us/step - loss: 0.1392 - acc: 0.9612\n",
      "Epoch 41/100\n",
      "232/232 [==============================] - 0s 144us/step - loss: 0.1271 - acc: 0.9440\n",
      "Epoch 42/100\n",
      "232/232 [==============================] - 0s 160us/step - loss: 0.1154 - acc: 0.9612\n",
      "Epoch 43/100\n",
      "232/232 [==============================] - 0s 168us/step - loss: 0.1149 - acc: 0.9612\n",
      "Epoch 44/100\n",
      "232/232 [==============================] - 0s 155us/step - loss: 0.1107 - acc: 0.9698\n",
      "Epoch 45/100\n",
      "232/232 [==============================] - 0s 168us/step - loss: 0.1188 - acc: 0.9612\n",
      "Epoch 46/100\n",
      "232/232 [==============================] - 0s 147us/step - loss: 0.1287 - acc: 0.9483\n",
      "Epoch 47/100\n"
     ]
    },
    {
     "name": "stdout",
     "output_type": "stream",
     "text": [
      "232/232 [==============================] - 0s 121us/step - loss: 0.1267 - acc: 0.9526\n",
      "Epoch 48/100\n",
      "232/232 [==============================] - 0s 185us/step - loss: 0.1319 - acc: 0.9526\n",
      "Epoch 49/100\n",
      "232/232 [==============================] - 0s 168us/step - loss: 0.1097 - acc: 0.9612\n",
      "Epoch 50/100\n",
      "232/232 [==============================] - 0s 162us/step - loss: 0.1011 - acc: 0.9784\n",
      "Epoch 51/100\n",
      "232/232 [==============================] - 0s 142us/step - loss: 0.0962 - acc: 0.9741\n",
      "Epoch 52/100\n",
      "232/232 [==============================] - 0s 123us/step - loss: 0.0924 - acc: 0.9741\n",
      "Epoch 53/100\n",
      "232/232 [==============================] - 0s 121us/step - loss: 0.0925 - acc: 0.9655\n",
      "Epoch 54/100\n",
      "232/232 [==============================] - 0s 138us/step - loss: 0.0914 - acc: 0.9741\n",
      "Epoch 55/100\n",
      "232/232 [==============================] - 0s 162us/step - loss: 0.0904 - acc: 0.9741\n",
      "Epoch 56/100\n",
      "232/232 [==============================] - 0s 164us/step - loss: 0.0873 - acc: 0.9655\n",
      "Epoch 57/100\n",
      "232/232 [==============================] - 0s 209us/step - loss: 0.0972 - acc: 0.9655\n",
      "Epoch 58/100\n",
      "232/232 [==============================] - 0s 179us/step - loss: 0.0907 - acc: 0.9655\n",
      "Epoch 59/100\n",
      "232/232 [==============================] - 0s 151us/step - loss: 0.0834 - acc: 0.9698\n",
      "Epoch 60/100\n",
      "232/232 [==============================] - 0s 164us/step - loss: 0.0755 - acc: 0.9784\n",
      "Epoch 61/100\n",
      "232/232 [==============================] - 0s 181us/step - loss: 0.0731 - acc: 0.9828\n",
      "Epoch 62/100\n",
      "232/232 [==============================] - 0s 155us/step - loss: 0.0724 - acc: 0.9828\n",
      "Epoch 63/100\n",
      "232/232 [==============================] - 0s 188us/step - loss: 0.0780 - acc: 0.9784\n",
      "Epoch 64/100\n",
      "232/232 [==============================] - 0s 160us/step - loss: 0.1045 - acc: 0.9655\n",
      "Epoch 65/100\n",
      "232/232 [==============================] - ETA: 0s - loss: 0.0217 - acc: 1.000 - 0s 149us/step - loss: 0.0776 - acc: 0.9741\n",
      "Epoch 66/100\n",
      "232/232 [==============================] - 0s 132us/step - loss: 0.0674 - acc: 0.9784\n",
      "Epoch 67/100\n",
      "232/232 [==============================] - 0s 147us/step - loss: 0.0667 - acc: 0.9784\n",
      "Epoch 68/100\n",
      "232/232 [==============================] - 0s 173us/step - loss: 0.0679 - acc: 0.9698\n",
      "Epoch 69/100\n",
      "232/232 [==============================] - 0s 149us/step - loss: 0.0636 - acc: 0.9784\n",
      "Epoch 70/100\n",
      "232/232 [==============================] - 0s 188us/step - loss: 0.0646 - acc: 0.9741\n",
      "Epoch 71/100\n",
      "232/232 [==============================] - 0s 254us/step - loss: 0.0646 - acc: 0.9828\n",
      "Epoch 72/100\n",
      "232/232 [==============================] - 0s 179us/step - loss: 0.0599 - acc: 0.9828\n",
      "Epoch 73/100\n",
      "232/232 [==============================] - 0s 194us/step - loss: 0.0596 - acc: 0.9871\n",
      "Epoch 74/100\n",
      "232/232 [==============================] - 0s 166us/step - loss: 0.0613 - acc: 0.9784\n",
      "Epoch 75/100\n",
      "232/232 [==============================] - 0s 201us/step - loss: 0.0618 - acc: 0.9828\n",
      "Epoch 76/100\n",
      "232/232 [==============================] - 0s 194us/step - loss: 0.0584 - acc: 0.9741\n",
      "Epoch 77/100\n",
      "232/232 [==============================] - 0s 138us/step - loss: 0.0691 - acc: 0.9828\n",
      "Epoch 78/100\n",
      "232/232 [==============================] - 0s 188us/step - loss: 0.0538 - acc: 0.9871\n",
      "Epoch 79/100\n",
      "232/232 [==============================] - 0s 196us/step - loss: 0.0704 - acc: 0.9698\n",
      "Epoch 80/100\n",
      "232/232 [==============================] - 0s 183us/step - loss: 0.0534 - acc: 0.9828\n",
      "Epoch 81/100\n",
      "232/232 [==============================] - 0s 181us/step - loss: 0.0628 - acc: 0.9741\n",
      "Epoch 82/100\n",
      "232/232 [==============================] - 0s 207us/step - loss: 0.0607 - acc: 0.9828\n",
      "Epoch 83/100\n",
      "232/232 [==============================] - 0s 181us/step - loss: 0.0487 - acc: 0.9871\n",
      "Epoch 84/100\n",
      "232/232 [==============================] - 0s 192us/step - loss: 0.0561 - acc: 0.9871\n",
      "Epoch 85/100\n",
      "232/232 [==============================] - 0s 196us/step - loss: 0.0474 - acc: 0.9914\n",
      "Epoch 86/100\n",
      "232/232 [==============================] - 0s 214us/step - loss: 0.0454 - acc: 0.9914\n",
      "Epoch 87/100\n",
      "232/232 [==============================] - 0s 166us/step - loss: 0.0572 - acc: 0.9828\n",
      "Epoch 88/100\n",
      "232/232 [==============================] - 0s 170us/step - loss: 0.0442 - acc: 0.9871\n",
      "Epoch 89/100\n",
      "232/232 [==============================] - 0s 157us/step - loss: 0.0428 - acc: 0.9957\n",
      "Epoch 90/100\n",
      "232/232 [==============================] - 0s 153us/step - loss: 0.0441 - acc: 0.9914\n",
      "Epoch 91/100\n",
      "232/232 [==============================] - 0s 162us/step - loss: 0.0413 - acc: 0.9914\n",
      "Epoch 92/100\n",
      "232/232 [==============================] - 0s 231us/step - loss: 0.0415 - acc: 0.9914\n",
      "Epoch 93/100\n",
      "232/232 [==============================] - 0s 188us/step - loss: 0.0538 - acc: 0.9784\n",
      "Epoch 94/100\n",
      "232/232 [==============================] - 0s 203us/step - loss: 0.0414 - acc: 0.9914\n",
      "Epoch 95/100\n",
      "232/232 [==============================] - 0s 205us/step - loss: 0.0384 - acc: 0.9914\n",
      "Epoch 96/100\n",
      "232/232 [==============================] - 0s 190us/step - loss: 0.0487 - acc: 0.9871\n",
      "Epoch 97/100\n",
      "232/232 [==============================] - 0s 177us/step - loss: 0.0432 - acc: 0.9871\n",
      "Epoch 98/100\n",
      "232/232 [==============================] - 0s 149us/step - loss: 0.0382 - acc: 0.9871\n",
      "Epoch 99/100\n",
      "232/232 [==============================] - 0s 147us/step - loss: 0.0391 - acc: 0.9914\n",
      "Epoch 100/100\n",
      "232/232 [==============================] - 0s 151us/step - loss: 0.0455 - acc: 0.9914\n",
      "116/116 [==============================] - 0s 522us/step\n",
      "Accuracy mean: 0.9568965496688054\n",
      "Accuracy variance: 0.0140775280964607\n"
     ]
    }
   ],
   "source": [
    "# Evaluating the ANN\n",
    "from keras.wrappers.scikit_learn import KerasClassifier\n",
    "from sklearn.model_selection import cross_val_score\n",
    "from keras.models import Sequential # initialize neural network library\n",
    "from keras.layers import Dense # build our layers library\n",
    "def build_classifier():\n",
    "    classifier = Sequential() # initialize neural network\n",
    "    classifier.add(Dense(units = 8, kernel_initializer = 'uniform', activation = 'relu', input_dim = x_train.shape[1]))\n",
    "    classifier.add(Dense(units = 4, kernel_initializer = 'uniform', activation = 'relu'))\n",
    "    classifier.add(Dense(units = 1, kernel_initializer = 'uniform', activation = 'sigmoid'))\n",
    "    classifier.compile(optimizer = 'adam', loss = 'binary_crossentropy', metrics = ['accuracy'])\n",
    "    return classifier\n",
    "classifier = KerasClassifier(build_fn = build_classifier, epochs = 100)\n",
    "accuracies = cross_val_score(estimator = classifier, X = x_train, y = y_train, cv = 3)\n",
    "mean = accuracies.mean()\n",
    "variance = accuracies.std()\n",
    "print(\"Accuracy mean: \"+ str(mean))\n",
    "print(\"Accuracy variance: \"+ str(variance))"
   ]
  },
  {
   "cell_type": "code",
   "execution_count": 21,
   "metadata": {},
   "outputs": [
    {
     "data": {
      "text/plain": [
       "numpy.ndarray"
      ]
     },
     "execution_count": 21,
     "metadata": {},
     "output_type": "execute_result"
    }
   ],
   "source": [
    "type(x_l)"
   ]
  },
  {
   "cell_type": "code",
   "execution_count": 20,
   "metadata": {
    "scrolled": true
   },
   "outputs": [
    {
     "ename": "ValueError",
     "evalue": "cannot reshape array of size 4096 into shape (144,144)",
     "output_type": "error",
     "traceback": [
      "\u001b[1;31m---------------------------------------------------------------------------\u001b[0m",
      "\u001b[1;31mValueError\u001b[0m                                Traceback (most recent call last)",
      "\u001b[1;32m<ipython-input-20-debbc68db32b>\u001b[0m in \u001b[0;36m<module>\u001b[1;34m()\u001b[0m\n\u001b[1;32m----> 1\u001b[1;33m \u001b[0mplt\u001b[0m\u001b[1;33m.\u001b[0m\u001b[0mimshow\u001b[0m\u001b[1;33m(\u001b[0m\u001b[0mx_l\u001b[0m\u001b[1;33m[\u001b[0m\u001b[1;36m260\u001b[0m\u001b[1;33m]\u001b[0m\u001b[1;33m.\u001b[0m\u001b[0mreshape\u001b[0m\u001b[1;33m(\u001b[0m\u001b[1;36m144\u001b[0m\u001b[1;33m,\u001b[0m \u001b[1;36m144\u001b[0m\u001b[1;33m)\u001b[0m\u001b[1;33m)\u001b[0m\u001b[1;33m\u001b[0m\u001b[0m\n\u001b[0m",
      "\u001b[1;31mValueError\u001b[0m: cannot reshape array of size 4096 into shape (144,144)"
     ]
    }
   ],
   "source": [
    "plt.imshow(x_l[260].reshape(144, 144))"
   ]
  },
  {
   "cell_type": "code",
   "execution_count": 22,
   "metadata": {},
   "outputs": [
    {
     "data": {
      "text/plain": [
       "<matplotlib.image.AxesImage at 0x25ad5885198>"
      ]
     },
     "execution_count": 22,
     "metadata": {},
     "output_type": "execute_result"
    },
    {
     "data": {
      "image/png": "[encoded data removed]",
      "text/plain": [
       "<matplotlib.figure.Figure at 0x259ce85f5f8>"
      ]
     },
     "metadata": {},
     "output_type": "display_data"
    }
   ],
   "source": [
    "plt.imshow(x_l[260])"
   ]
  },
  {
   "cell_type": "code",
   "execution_count": 23,
   "metadata": {},
   "outputs": [
    {
     "data": {
      "text/plain": [
       "(64, 64)"
      ]
     },
     "execution_count": 23,
     "metadata": {},
     "output_type": "execute_result"
    }
   ],
   "source": [
    "x_l[260].shape"
   ]
  }
 ],
 "metadata": {
  "kernelspec": {
   "display_name": "Python 3",
   "language": "python",
   "name": "python3"
  },
  "language_info": {
   "codemirror_mode": {
    "name": "ipython",
    "version": 3
   },
   "file_extension": ".py",
   "mimetype": "text/x-python",
   "name": "python",
   "nbconvert_exporter": "python",
   "pygments_lexer": "ipython3",
   "version": "3.5.2"
  }
 },
 "nbformat": 4,
 "nbformat_minor": 2
}
